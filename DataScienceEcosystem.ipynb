{
 "cells": [
  {
   "cell_type": "markdown",
   "id": "130161cd-ad4d-48b9-8ece-af157dbef169",
   "metadata": {},
   "source": [
    "# Data Science Tools and Ecosystem"
   ]
  },
  {
   "cell_type": "markdown",
   "id": "f36b6437-d841-432d-a9bd-aaa137bd2127",
   "metadata": {},
   "source": [
    "In this notebook, Data Science Tools and Ecosystems are summarized."
   ]
  },
  {
   "cell_type": "markdown",
   "id": "24b7d90e-48b1-4081-81e1-39458f2fcfba",
   "metadata": {},
   "source": [
    "**Objectives:**\n",
    "- List Popular languages for Data Science\n",
    "- List Popular libraries for Data Science\n",
    "- Arithmetic expressions in Python\n",
    "- Tables in Python\n",
    "- Development Environments\n",
    "  "
   ]
  },
  {
   "cell_type": "markdown",
   "id": "cde88868-df21-4e7a-af11-f31b8ed009fe",
   "metadata": {},
   "source": [
    "Some of the popular languages that Data Scientists use are:\n",
    "1. Python\n",
    "2. R\n",
    "3. SQL\n",
    "4. Scala\n",
    "5. Java\n",
    "6. C++\n",
    "7. Julia\n"
   ]
  },
  {
   "cell_type": "markdown",
   "id": "899358ba-9a30-4f84-a686-5d654f463885",
   "metadata": {},
   "source": [
    "Some of the popular libraries that Data Scientists use are:\n",
    "1. Pandas\n",
    "2. Numpy\n",
    "3. Matplolib\n",
    "4. Scikit Learn\n",
    "5. TensorFlow\n",
    "6. ApacheSpark\n",
    "7. Seaborn\n",
    "8. Keras\n",
    "9. Pytorch"
   ]
  },
  {
   "cell_type": "markdown",
   "id": "2546c8ec-377e-42e0-8449-3ad2b41b98c0",
   "metadata": {},
   "source": [
    "| Data Science Tools |\n",
    "|--------------------|\n",
    "| Jupyter Lab        |\n",
    "| VS Code            |\n",
    "| Google Colaboratory|"
   ]
  },
  {
   "cell_type": "markdown",
   "id": "cbb790b7-1088-4871-8aff-5fe1a19b9d84",
   "metadata": {},
   "source": [
    "### Below are a few examples of evaluating arithmetic expressions in Python\n",
    "\n",
    "1+1\n",
    "2+2\n",
    "x=1\n",
    "y=2\n",
    "z=x+y"
   ]
  },
  {
   "cell_type": "code",
   "execution_count": 1,
   "id": "a0de356f-f06d-4513-ad4a-cd44feaa21c2",
   "metadata": {},
   "outputs": [
    {
     "data": {
      "text/plain": [
       "17"
      ]
     },
     "execution_count": 1,
     "metadata": {},
     "output_type": "execute_result"
    }
   ],
   "source": [
    "#This is a simple arithmetic expression to multiply then add integers\n",
    "\n",
    "(3*4)+5"
   ]
  },
  {
   "cell_type": "code",
   "execution_count": 2,
   "id": "2e8ae73f-a6d1-4e2a-a7cf-5a2c7ca5db23",
   "metadata": {},
   "outputs": [
    {
     "name": "stdout",
     "output_type": "stream",
     "text": [
      "3.3333333333333335\n"
     ]
    }
   ],
   "source": [
    "#This will covert 200 minutes to hours by dividing by 60\n",
    "\n",
    "minutes = 200\n",
    "hours = minutes / 60\n",
    "print(hours)"
   ]
  },
  {
   "cell_type": "markdown",
   "id": "8726e4fd-c7f3-4313-8c13-0f60125d58bc",
   "metadata": {},
   "source": [
    "## Author\n",
    "Cláudia Lopes"
   ]
  },
  {
   "cell_type": "code",
   "execution_count": null,
   "id": "c70541c4-a693-4d98-8536-4fc2a22e3dbd",
   "metadata": {},
   "outputs": [],
   "source": []
  }
 ],
 "metadata": {
  "kernelspec": {
   "display_name": "Python 3 (ipykernel)",
   "language": "python",
   "name": "python3"
  },
  "language_info": {
   "codemirror_mode": {
    "name": "ipython",
    "version": 3
   },
   "file_extension": ".py",
   "mimetype": "text/x-python",
   "name": "python",
   "nbconvert_exporter": "python",
   "pygments_lexer": "ipython3",
   "version": "3.9.2"
  }
 },
 "nbformat": 4,
 "nbformat_minor": 5
}
